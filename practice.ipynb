{
 "cells": [
  {
   "cell_type": "code",
   "execution_count": 7,
   "metadata": {},
   "outputs": [],
   "source": [
    "#라이브러리\n",
    "from bs4 import BeautifulSoup\n",
    "import requests\n",
    "import telegram"
   ]
  },
  {
   "cell_type": "code",
   "execution_count": 5,
   "metadata": {},
   "outputs": [
    {
     "name": "stdout",
     "output_type": "stream",
     "text": [
      "5357803249\n",
      "5357803249\n"
     ]
    }
   ],
   "source": [
    "#텔레그램 chat_id 확인\n",
    "import telegram\n",
    "\n",
    "token = \"token\"\n",
    "bot = telegram.Bot(token = token)\n",
    "updates = bot.get_updates()\n",
    "for u in updates:\n",
    "    print(u.message['chat']['id'])"
   ]
  },
  {
   "cell_type": "code",
   "execution_count": 6,
   "metadata": {},
   "outputs": [
    {
     "data": {
      "text/plain": [
       "<telegram.message.Message at 0x21bfca474c0>"
      ]
     },
     "execution_count": 6,
     "metadata": {},
     "output_type": "execute_result"
    }
   ],
   "source": [
    "#텔레그램 봇 메세지 테스트\n",
    "import telegram\n",
    "\n",
    "token = \"token\"\n",
    "bot = telegram.Bot(token = token)\n",
    "chat_id = \"id\"\n",
    "text = 'Hello, Telegram!'\n",
    "bot.sendMessage(chat_id = chat_id , text=text)"
   ]
  },
  {
   "cell_type": "code",
   "execution_count": 14,
   "metadata": {},
   "outputs": [
    {
     "data": {
      "text/plain": [
       "<Response [200]>"
      ]
     },
     "execution_count": 14,
     "metadata": {},
     "output_type": "execute_result"
    }
   ],
   "source": [
    "#알림받을 상품 웹페이지\n",
    "elvst_sample_url = 'url'\n",
    "res = requests.get(elvst_sample_url)\n",
    "res"
   ]
  },
  {
   "cell_type": "code",
   "execution_count": 15,
   "metadata": {},
   "outputs": [
    {
     "data": {
      "text/plain": [
       "False"
      ]
     },
     "execution_count": 15,
     "metadata": {},
     "output_type": "execute_result"
    }
   ],
   "source": [
    "#알림 테스트\n",
    "def elvst_check(res):\n",
    "    soup = BeautifulSoup(res.text, 'html.parser')\n",
    "    stock_a = soup.find(\"div\", class_=\"type reservation soldOut\")\n",
    "\n",
    "    if stock_a == None:\n",
    "        return False\n",
    "    return True\n",
    "\n",
    "elvst_check(res)"
   ]
  }
 ],
 "metadata": {
  "interpreter": {
   "hash": "87cfcd5998c5ad609a07683edfa6c3a0e5de9029ad3a4ca89c110fdefd8a25d3"
  },
  "kernelspec": {
   "display_name": "Python 3.10.4 64-bit",
   "language": "python",
   "name": "python3"
  },
  "language_info": {
   "codemirror_mode": {
    "name": "ipython",
    "version": 3
   },
   "file_extension": ".py",
   "mimetype": "text/x-python",
   "name": "python",
   "nbconvert_exporter": "python",
   "pygments_lexer": "ipython3",
   "version": "3.10.4"
  },
  "orig_nbformat": 4
 },
 "nbformat": 4,
 "nbformat_minor": 2
}
